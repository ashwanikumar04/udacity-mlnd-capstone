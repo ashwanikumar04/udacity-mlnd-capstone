{
 "cells": [
  {
   "cell_type": "code",
   "execution_count": 1,
   "metadata": {
    "collapsed": true
   },
   "outputs": [],
   "source": [
    "import pandas as pd\n",
    "import numpy as np\n",
    "import random\n",
    "\n",
    "from sklearn.utils import shuffle\n",
    "import tensorflow as tf\n",
    "from helpers import one_hot_encode, get_batch, get_training_set, get_test_set, log\n",
    "from params import HyperParameter"
   ]
  },
  {
   "cell_type": "code",
   "execution_count": 2,
   "metadata": {
    "collapsed": true
   },
   "outputs": [],
   "source": [
    "import matplotlib.pyplot as plt\n",
    "%matplotlib inline"
   ]
  },
  {
   "cell_type": "code",
   "execution_count": 3,
   "metadata": {
    "collapsed": true
   },
   "outputs": [],
   "source": [
    "%load_ext autoreload\n",
    "%autoreload 2"
   ]
  },
  {
   "cell_type": "code",
   "execution_count": 4,
   "metadata": {},
   "outputs": [
    {
     "data": {
      "text/html": [
       "<div>\n",
       "<style>\n",
       "    .dataframe thead tr:only-child th {\n",
       "        text-align: right;\n",
       "    }\n",
       "\n",
       "    .dataframe thead th {\n",
       "        text-align: left;\n",
       "    }\n",
       "\n",
       "    .dataframe tbody tr th {\n",
       "        vertical-align: top;\n",
       "    }\n",
       "</style>\n",
       "<table border=\"1\" class=\"dataframe\">\n",
       "  <thead>\n",
       "    <tr style=\"text-align: right;\">\n",
       "      <th></th>\n",
       "      <th>pixels</th>\n",
       "      <th>Usage</th>\n",
       "    </tr>\n",
       "    <tr>\n",
       "      <th>emotion</th>\n",
       "      <th></th>\n",
       "      <th></th>\n",
       "    </tr>\n",
       "  </thead>\n",
       "  <tbody>\n",
       "    <tr>\n",
       "      <th>0</th>\n",
       "      <td>4953</td>\n",
       "      <td>4953</td>\n",
       "    </tr>\n",
       "    <tr>\n",
       "      <th>1</th>\n",
       "      <td>547</td>\n",
       "      <td>547</td>\n",
       "    </tr>\n",
       "    <tr>\n",
       "      <th>2</th>\n",
       "      <td>5121</td>\n",
       "      <td>5121</td>\n",
       "    </tr>\n",
       "    <tr>\n",
       "      <th>3</th>\n",
       "      <td>8989</td>\n",
       "      <td>8989</td>\n",
       "    </tr>\n",
       "    <tr>\n",
       "      <th>4</th>\n",
       "      <td>6077</td>\n",
       "      <td>6077</td>\n",
       "    </tr>\n",
       "    <tr>\n",
       "      <th>5</th>\n",
       "      <td>4002</td>\n",
       "      <td>4002</td>\n",
       "    </tr>\n",
       "    <tr>\n",
       "      <th>6</th>\n",
       "      <td>6198</td>\n",
       "      <td>6198</td>\n",
       "    </tr>\n",
       "  </tbody>\n",
       "</table>\n",
       "</div>"
      ],
      "text/plain": [
       "         pixels  Usage\n",
       "emotion               \n",
       "0          4953   4953\n",
       "1           547    547\n",
       "2          5121   5121\n",
       "3          8989   8989\n",
       "4          6077   6077\n",
       "5          4002   4002\n",
       "6          6198   6198"
      ]
     },
     "execution_count": 4,
     "metadata": {},
     "output_type": "execute_result"
    }
   ],
   "source": [
    "file = r'data/fer2013.csv'\n",
    "df = pd.read_csv(file)\n",
    "\n",
    "g1 = df.groupby( [ \"emotion\"] ).count()\n",
    "g1.head(10)\n"
   ]
  },
  {
   "cell_type": "code",
   "execution_count": 5,
   "metadata": {},
   "outputs": [
    {
     "data": {
      "image/png": "[encoded data removed]",
      "text/plain": [
       "<matplotlib.figure.Figure at 0x1a19136cf8>"
      ]
     },
     "metadata": {},
     "output_type": "display_data"
    }
   ],
   "source": [
    "my_plot = g1.plot(kind='bar')"
   ]
  },
  {
   "cell_type": "markdown",
   "metadata": {},
   "source": [
    "## Data"
   ]
  },
  {
   "cell_type": "markdown",
   "metadata": {},
   "source": [
    "### Training"
   ]
  },
  {
   "cell_type": "code",
   "execution_count": 6,
   "metadata": {},
   "outputs": [
    {
     "data": {
      "text/html": [
       "<div>\n",
       "<style>\n",
       "    .dataframe thead tr:only-child th {\n",
       "        text-align: right;\n",
       "    }\n",
       "\n",
       "    .dataframe thead th {\n",
       "        text-align: left;\n",
       "    }\n",
       "\n",
       "    .dataframe tbody tr th {\n",
       "        vertical-align: top;\n",
       "    }\n",
       "</style>\n",
       "<table border=\"1\" class=\"dataframe\">\n",
       "  <thead>\n",
       "    <tr style=\"text-align: right;\">\n",
       "      <th></th>\n",
       "      <th>emotion</th>\n",
       "      <th>pixels</th>\n",
       "      <th>Usage</th>\n",
       "    </tr>\n",
       "  </thead>\n",
       "  <tbody>\n",
       "    <tr>\n",
       "      <th>0</th>\n",
       "      <td>0</td>\n",
       "      <td>70 80 82 72 58 58 60 63 54 58 60 48 89 115 121...</td>\n",
       "      <td>Training</td>\n",
       "    </tr>\n",
       "    <tr>\n",
       "      <th>1</th>\n",
       "      <td>0</td>\n",
       "      <td>151 150 147 155 148 133 111 140 170 174 182 15...</td>\n",
       "      <td>Training</td>\n",
       "    </tr>\n",
       "    <tr>\n",
       "      <th>2</th>\n",
       "      <td>2</td>\n",
       "      <td>231 212 156 164 174 138 161 173 182 200 106 38...</td>\n",
       "      <td>Training</td>\n",
       "    </tr>\n",
       "    <tr>\n",
       "      <th>3</th>\n",
       "      <td>4</td>\n",
       "      <td>24 32 36 30 32 23 19 20 30 41 21 22 32 34 21 1...</td>\n",
       "      <td>Training</td>\n",
       "    </tr>\n",
       "    <tr>\n",
       "      <th>4</th>\n",
       "      <td>6</td>\n",
       "      <td>4 0 0 0 0 0 0 0 0 0 0 0 3 15 23 28 48 50 58 84...</td>\n",
       "      <td>Training</td>\n",
       "    </tr>\n",
       "  </tbody>\n",
       "</table>\n",
       "</div>"
      ],
      "text/plain": [
       "   emotion                                             pixels     Usage\n",
       "0        0  70 80 82 72 58 58 60 63 54 58 60 48 89 115 121...  Training\n",
       "1        0  151 150 147 155 148 133 111 140 170 174 182 15...  Training\n",
       "2        2  231 212 156 164 174 138 161 173 182 200 106 38...  Training\n",
       "3        4  24 32 36 30 32 23 19 20 30 41 21 22 32 34 21 1...  Training\n",
       "4        6  4 0 0 0 0 0 0 0 0 0 0 0 3 15 23 28 48 50 58 84...  Training"
      ]
     },
     "execution_count": 6,
     "metadata": {},
     "output_type": "execute_result"
    }
   ],
   "source": [
    "df.loc[df['Usage'] == 'Training'].head(5)"
   ]
  },
  {
   "cell_type": "markdown",
   "metadata": {},
   "source": [
    "## Test"
   ]
  },
  {
   "cell_type": "code",
   "execution_count": 7,
   "metadata": {},
   "outputs": [
    {
     "data": {
      "text/html": [
       "<div>\n",
       "<style>\n",
       "    .dataframe thead tr:only-child th {\n",
       "        text-align: right;\n",
       "    }\n",
       "\n",
       "    .dataframe thead th {\n",
       "        text-align: left;\n",
       "    }\n",
       "\n",
       "    .dataframe tbody tr th {\n",
       "        vertical-align: top;\n",
       "    }\n",
       "</style>\n",
       "<table border=\"1\" class=\"dataframe\">\n",
       "  <thead>\n",
       "    <tr style=\"text-align: right;\">\n",
       "      <th></th>\n",
       "      <th>emotion</th>\n",
       "      <th>pixels</th>\n",
       "      <th>Usage</th>\n",
       "    </tr>\n",
       "  </thead>\n",
       "  <tbody>\n",
       "    <tr>\n",
       "      <th>28709</th>\n",
       "      <td>0</td>\n",
       "      <td>254 254 254 254 254 249 255 160 2 58 53 70 77 ...</td>\n",
       "      <td>PublicTest</td>\n",
       "    </tr>\n",
       "    <tr>\n",
       "      <th>28710</th>\n",
       "      <td>1</td>\n",
       "      <td>156 184 198 202 204 207 210 212 213 214 215 21...</td>\n",
       "      <td>PublicTest</td>\n",
       "    </tr>\n",
       "    <tr>\n",
       "      <th>28711</th>\n",
       "      <td>4</td>\n",
       "      <td>69 118 61 60 96 121 103 87 103 88 70 90 115 12...</td>\n",
       "      <td>PublicTest</td>\n",
       "    </tr>\n",
       "    <tr>\n",
       "      <th>28712</th>\n",
       "      <td>6</td>\n",
       "      <td>205 203 236 157 83 158 120 116 94 86 155 180 2...</td>\n",
       "      <td>PublicTest</td>\n",
       "    </tr>\n",
       "    <tr>\n",
       "      <th>28713</th>\n",
       "      <td>3</td>\n",
       "      <td>87 79 74 66 74 96 77 80 80 84 83 89 102 91 84 ...</td>\n",
       "      <td>PublicTest</td>\n",
       "    </tr>\n",
       "  </tbody>\n",
       "</table>\n",
       "</div>"
      ],
      "text/plain": [
       "       emotion                                             pixels       Usage\n",
       "28709        0  254 254 254 254 254 249 255 160 2 58 53 70 77 ...  PublicTest\n",
       "28710        1  156 184 198 202 204 207 210 212 213 214 215 21...  PublicTest\n",
       "28711        4  69 118 61 60 96 121 103 87 103 88 70 90 115 12...  PublicTest\n",
       "28712        6  205 203 236 157 83 158 120 116 94 86 155 180 2...  PublicTest\n",
       "28713        3  87 79 74 66 74 96 77 80 80 84 83 89 102 91 84 ...  PublicTest"
      ]
     },
     "execution_count": 7,
     "metadata": {},
     "output_type": "execute_result"
    }
   ],
   "source": [
    "df.loc[df['Usage'] == 'PublicTest'].head(5)"
   ]
  },
  {
   "cell_type": "markdown",
   "metadata": {},
   "source": [
    "## Initialize data"
   ]
  },
  {
   "cell_type": "code",
   "execution_count": 8,
   "metadata": {
    "collapsed": true
   },
   "outputs": [],
   "source": [
    "train_X, train_y = get_training_set(df.loc[df['Usage'] == 'Training'])\n",
    "test_X, test_y = get_test_set(df.loc[df['Usage'] == 'PublicTest'])\n",
    "validate_X, validate_y = get_test_set(df.loc[df['Usage'] == 'PrivateTest'])"
   ]
  },
  {
   "cell_type": "markdown",
   "metadata": {},
   "source": [
    "## Images"
   ]
  },
  {
   "cell_type": "code",
   "execution_count": 9,
   "metadata": {},
   "outputs": [
    {
     "data": {
      "text/plain": [
       "<matplotlib.image.AxesImage at 0x1a1f885208>"
      ]
     },
     "execution_count": 9,
     "metadata": {},
     "output_type": "execute_result"
    },
    {
     "data": {
      "image/png": "[encoded data removed]",
      "text/plain": [
       "<matplotlib.figure.Figure at 0x1a16f97240>"
      ]
     },
     "metadata": {},
     "output_type": "display_data"
    }
   ],
   "source": [
    "plt.imshow(\n",
    "    train_X[random.randint(1, train_X.shape[0])].reshape(48, 48),\n",
    "    cmap='gist_gray')"
   ]
  },
  {
   "cell_type": "code",
   "execution_count": 10,
   "metadata": {},
   "outputs": [
    {
     "data": {
      "text/plain": [
       "<matplotlib.image.AxesImage at 0x1a1fb65278>"
      ]
     },
     "execution_count": 10,
     "metadata": {},
     "output_type": "execute_result"
    },
    {
     "data": {
      "image/png": "[encoded data removed]",
      "text/plain": [
       "<matplotlib.figure.Figure at 0x107037390>"
      ]
     },
     "metadata": {},
     "output_type": "display_data"
    }
   ],
   "source": [
    "plt.imshow(\n",
    "    train_X[random.randint(1, train_X.shape[0])].reshape(48, 48),\n",
    "    cmap='gist_gray')"
   ]
  },
  {
   "cell_type": "code",
   "execution_count": 11,
   "metadata": {},
   "outputs": [
    {
     "data": {
      "text/plain": [
       "<matplotlib.image.AxesImage at 0x1a1fc413c8>"
      ]
     },
     "execution_count": 11,
     "metadata": {},
     "output_type": "execute_result"
    },
    {
     "data": {
      "image/png": "[encoded data removed]",
      "text/plain": [
       "<matplotlib.figure.Figure at 0x1a169db1d0>"
      ]
     },
     "metadata": {},
     "output_type": "display_data"
    }
   ],
   "source": [
    "plt.imshow(\n",
    "    train_X[random.randint(1, train_X.shape[0])].reshape(48, 48),\n",
    "    cmap='gist_gray')"
   ]
  },
  {
   "cell_type": "code",
   "execution_count": 9,
   "metadata": {
    "collapsed": true
   },
   "outputs": [],
   "source": [
    "labels = 7\n",
    "image_size = 2304"
   ]
  },
  {
   "cell_type": "markdown",
   "metadata": {},
   "source": [
    "## Linear Classification"
   ]
  },
  {
   "cell_type": "markdown",
   "metadata": {},
   "source": [
    "### Hyper parameters"
   ]
  },
  {
   "cell_type": "code",
   "execution_count": 14,
   "metadata": {},
   "outputs": [
    {
     "name": "stdout",
     "output_type": "stream",
     "text": [
      "\n",
      ":  epoch: 1000, num_batches: 64, batch_size: 32, learning_rate: 0.5, hold_prob: (0.5,)\n"
     ]
    }
   ],
   "source": [
    "params = HyperParameter(\n",
    "    num_batches=64,\n",
    "    batch_size=32,\n",
    "    epoch=1000,\n",
    "    learning_rate=.5,\n",
    "    hold_prob=0.5,\n",
    "    epoch_to_report=50)\n",
    "\n",
    "log(params)"
   ]
  },
  {
   "cell_type": "code",
   "execution_count": 15,
   "metadata": {},
   "outputs": [
    {
     "name": "stdout",
     "output_type": "stream",
     "text": [
      "Epoch:  0\n",
      "model accuracy:  0.023962106555700302\n",
      "Epoch:  50\n",
      "model accuracy:  0.2672053575515747\n",
      "Epoch:  100\n",
      "model accuracy:  0.18222345411777496\n",
      "Epoch:  150\n",
      "model accuracy:  0.27751463651657104\n",
      "Epoch:  200\n",
      "model accuracy:  0.31847310066223145\n",
      "Epoch:  250\n",
      "model accuracy:  0.13708554208278656\n",
      "Epoch:  300\n",
      "model accuracy:  0.31122875213623047\n",
      "Epoch:  350\n",
      "model accuracy:  0.2722206711769104\n",
      "Epoch:  400\n",
      "model accuracy:  0.27110615372657776\n",
      "Epoch:  450\n",
      "model accuracy:  0.14154361188411713\n",
      "Epoch:  500\n",
      "model accuracy:  0.19699080288410187\n",
      "Epoch:  550\n",
      "model accuracy:  0.16884925961494446\n",
      "Epoch:  600\n",
      "model accuracy:  0.3179158568382263\n",
      "Epoch:  650\n",
      "model accuracy:  0.2624686658382416\n",
      "Epoch:  700\n",
      "model accuracy:  0.2095291167497635\n",
      "Epoch:  750\n",
      "model accuracy:  0.27807188034057617\n",
      "Epoch:  800\n",
      "model accuracy:  0.2602396309375763\n",
      "Epoch:  850\n",
      "model accuracy:  0.31150737404823303\n",
      "Epoch:  900\n",
      "model accuracy:  0.31150737404823303\n",
      "Epoch:  950\n",
      "model accuracy:  0.22596824169158936\n",
      "Final accuracy:  0.26831987500190735\n"
     ]
    }
   ],
   "source": [
    "from linear_classifier import LinearClassifer\n",
    "model = LinearClassifer(params=params, labels=labels, image_size=image_size)\n",
    "\n",
    "accuracyMap = model.run(\n",
    "    train_X=train_X,\n",
    "    train_y=train_y,\n",
    "    test_X=test_X,\n",
    "    test_y=test_y,\n",
    "    validate_X=validate_X,\n",
    "    validate_y=validate_y)"
   ]
  },
  {
   "cell_type": "code",
   "execution_count": 17,
   "metadata": {},
   "outputs": [
    {
     "data": {
      "text/plain": [
       "[<matplotlib.lines.Line2D at 0x1a2bc0aba8>]"
      ]
     },
     "execution_count": 17,
     "metadata": {},
     "output_type": "execute_result"
    },
    {
     "data": {
      "image/png": "[encoded data removed]",
      "text/plain": [
       "<matplotlib.figure.Figure at 0x1a2bbd4320>"
      ]
     },
     "metadata": {},
     "output_type": "display_data"
    }
   ],
   "source": [
    "epochs = [int(p) for p in accuracyMap.keys()]\n",
    "plt.plot(epochs,list(accuracyMap.values()))\n"
   ]
  },
  {
   "cell_type": "markdown",
   "metadata": {
    "collapsed": true
   },
   "source": [
    "## CNN"
   ]
  },
  {
   "cell_type": "markdown",
   "metadata": {},
   "source": [
    "### Hyper parameters"
   ]
  },
  {
   "cell_type": "markdown",
   "metadata": {},
   "source": [
    "### Run 1"
   ]
  },
  {
   "cell_type": "code",
   "execution_count": 12,
   "metadata": {},
   "outputs": [
    {
     "name": "stdout",
     "output_type": "stream",
     "text": [
      "\n",
      ":  epoch: 100, num_batches: 64, batch_size: 32, learning_rate: 0.5, hold_prob: (1.0,)\n"
     ]
    }
   ],
   "source": [
    "params = HyperParameter(\n",
    "    num_batches=64,\n",
    "    batch_size=32,\n",
    "    epoch=100,\n",
    "    learning_rate=.5,\n",
    "    hold_prob=1.0,\n",
    "    epoch_to_report=10)\n",
    "\n",
    "log(params)"
   ]
  },
  {
   "cell_type": "code",
   "execution_count": 13,
   "metadata": {},
   "outputs": [
    {
     "name": "stdout",
     "output_type": "stream",
     "text": [
      "Epoch:  0\n",
      "model accuracy:  0.13011981546878815\n",
      "Epoch:  10\n",
      "model accuracy:  0.24937307834625244\n",
      "Epoch:  20\n",
      "model accuracy:  0.16912789642810822\n",
      "Epoch:  30\n",
      "model accuracy:  0.015603232197463512\n",
      "Epoch:  40\n",
      "model accuracy:  0.24937307834625244\n",
      "Epoch:  50\n",
      "model accuracy:  0.1382000595331192\n",
      "Epoch:  60\n",
      "model accuracy:  0.13011981546878815\n",
      "Epoch:  70\n",
      "model accuracy:  0.1819448322057724\n",
      "Epoch:  80\n",
      "model accuracy:  0.24937307834625244\n",
      "Epoch:  90\n",
      "model accuracy:  0.24937307834625244\n",
      "Final accuracy:  0.24491502344608307\n"
     ]
    }
   ],
   "source": [
    "from cnn import CNN\n",
    "model = CNN(params=params, labels=labels, image_size=image_size)\n",
    "\n",
    "accuracyMap = model.run(\n",
    "    train_X=train_X,\n",
    "    train_y=train_y,\n",
    "    test_X=test_X,\n",
    "    test_y=test_y,\n",
    "    validate_X=validate_X,\n",
    "    validate_y=validate_y)"
   ]
  },
  {
   "cell_type": "code",
   "execution_count": 14,
   "metadata": {},
   "outputs": [
    {
     "data": {
      "text/plain": [
       "[<matplotlib.lines.Line2D at 0x10666b550>]"
      ]
     },
     "execution_count": 14,
     "metadata": {},
     "output_type": "execute_result"
    },
    {
     "data": {
      "image/png": "[encoded data removed]",
      "text/plain": [
       "<matplotlib.figure.Figure at 0x103a26630>"
      ]
     },
     "metadata": {},
     "output_type": "display_data"
    }
   ],
   "source": [
    "epochs = [int(p) for p in accuracyMap.keys()]\n",
    "plt.plot(epochs, list(accuracyMap.values()))"
   ]
  },
  {
   "cell_type": "markdown",
   "metadata": {},
   "source": [
    "### Run 2"
   ]
  },
  {
   "cell_type": "code",
   "execution_count": 19,
   "metadata": {},
   "outputs": [
    {
     "name": "stdout",
     "output_type": "stream",
     "text": [
      "\n",
      ":  epoch: 100, num_batches: 128, batch_size: 128, learning_rate: 0.001, hold_prob: (0.5,)\n"
     ]
    }
   ],
   "source": [
    "params = HyperParameter(\n",
    "    num_batches=128,\n",
    "    batch_size=128,\n",
    "    epoch=100,\n",
    "    learning_rate=.001,\n",
    "    hold_prob=.5,\n",
    "    epoch_to_report=10)\n",
    "\n",
    "log(params)"
   ]
  },
  {
   "cell_type": "code",
   "execution_count": 20,
   "metadata": {},
   "outputs": [
    {
     "name": "stdout",
     "output_type": "stream",
     "text": [
      "Epoch:  0\n",
      "model accuracy:  0.25494566559791565\n",
      "Epoch:  10\n",
      "model accuracy:  0.46781831979751587\n",
      "Epoch:  20\n",
      "model accuracy:  0.4984675347805023\n",
      "Epoch:  30\n",
      "model accuracy:  0.5107272267341614\n",
      "Epoch:  40\n",
      "model accuracy:  0.5190861225128174\n",
      "Epoch:  50\n",
      "model accuracy:  0.522986888885498\n",
      "Epoch:  60\n",
      "model accuracy:  0.5204792618751526\n",
      "Epoch:  70\n",
      "model accuracy:  0.5185288190841675\n",
      "Epoch:  80\n",
      "model accuracy:  0.5201293405912941\n",
      "Epoch:  90\n",
      "model accuracy:  0.5300562395260789\n",
      "Final accuracy:  0.5224012789720129\n"
     ]
    }
   ],
   "source": [
    "from cnn import CNN\n",
    "model = CNN(params=params, labels=labels, image_size=image_size)\n",
    "\n",
    "accuracyMap = model.run(\n",
    "    train_X=train_X,\n",
    "    train_y=train_y,\n",
    "    test_X=test_X,\n",
    "    test_y=test_y,\n",
    "    validate_X=validate_X,\n",
    "    validate_y=validate_y)"
   ]
  },
  {
   "cell_type": "code",
   "execution_count": 23,
   "metadata": {},
   "outputs": [
    {
     "data": {
      "text/plain": [
       "[<matplotlib.lines.Line2D at 0x1a213713c8>]"
      ]
     },
     "execution_count": 23,
     "metadata": {},
     "output_type": "execute_result"
    },
    {
     "data": {
      "image/png": "[encoded data removed]",
      "text/plain": [
       "<matplotlib.figure.Figure at 0x1a185d0470>"
      ]
     },
     "metadata": {},
     "output_type": "display_data"
    }
   ],
   "source": [
    "epochs = [int(p) for p in accuracyMap.keys()]\n",
    "plt.plot(epochs, list(accuracyMap.values()))"
   ]
  },
  {
   "cell_type": "markdown",
   "metadata": {},
   "source": [
    "### Run 3"
   ]
  },
  {
   "cell_type": "code",
   "execution_count": 11,
   "metadata": {},
   "outputs": [
    {
     "name": "stdout",
     "output_type": "stream",
     "text": [
      "\n",
      ":  epoch: 500, num_batches: 25, batch_size: 256, learning_rate: 0.001, hold_prob: (0.5,)\n"
     ]
    }
   ],
   "source": [
    "params = HyperParameter(\n",
    "    num_batches=25,\n",
    "    batch_size=256,\n",
    "    epoch=500,\n",
    "    learning_rate=.001,\n",
    "    hold_prob=.5,\n",
    "    epoch_to_report=50)\n",
    "\n",
    "log(params)"
   ]
  },
  {
   "cell_type": "code",
   "execution_count": 12,
   "metadata": {},
   "outputs": [
    {
     "name": "stdout",
     "output_type": "stream",
     "text": [
      "Epoch:  0\n",
      "model accuracy:  0.24519364535808563\n",
      "Epoch:  50\n",
      "model accuracy:  0.5093340873718262\n",
      "Epoch:  100\n",
      "model accuracy:  0.531345784664154\n",
      "Epoch:  150\n",
      "model accuracy:  0.5291167497634888\n",
      "Epoch:  200\n",
      "model accuracy:  0.5254945755004883\n",
      "Epoch:  250\n",
      "model accuracy:  0.5321816802024841\n",
      "Epoch:  300\n",
      "model accuracy:  0.5238227844238281\n",
      "Epoch:  350\n",
      "model accuracy:  0.5266090631484985\n",
      "Epoch:  400\n",
      "model accuracy:  0.5280022025108337\n",
      "Epoch:  450\n",
      "model accuracy:  0.5263304710388184\n",
      "Final accuracy:  0.5397046804428101\n"
     ]
    }
   ],
   "source": [
    "from cnn import CNN\n",
    "model = CNN(params=params, labels=labels, image_size=image_size)\n",
    "\n",
    "accuracyMap = model.run(\n",
    "    train_X=train_X,\n",
    "    train_y=train_y,\n",
    "    test_X=test_X,\n",
    "    test_y=test_y,\n",
    "    validate_X=validate_X,\n",
    "    validate_y=validate_y)"
   ]
  },
  {
   "cell_type": "code",
   "execution_count": 13,
   "metadata": {},
   "outputs": [
    {
     "data": {
      "text/plain": [
       "[<matplotlib.lines.Line2D at 0x1095dbb38>]"
      ]
     },
     "execution_count": 13,
     "metadata": {},
     "output_type": "execute_result"
    },
    {
     "data": {
      "image/png": "[encoded data removed]",
      "text/plain": [
       "<matplotlib.figure.Figure at 0x1a19081e10>"
      ]
     },
     "metadata": {},
     "output_type": "display_data"
    }
   ],
   "source": [
    "epochs = [int(p) for p in accuracyMap.keys()]\n",
    "plt.plot(epochs, list(accuracyMap.values()))"
   ]
  },
  {
   "cell_type": "code",
   "execution_count": null,
   "metadata": {
    "collapsed": true
   },
   "outputs": [],
   "source": []
  }
 ],
 "metadata": {
  "kernelspec": {
   "display_name": "Python 3",
   "language": "python",
   "name": "python3"
  },
  "language_info": {
   "codemirror_mode": {
    "name": "ipython",
    "version": 3
   },
   "file_extension": ".py",
   "mimetype": "text/x-python",
   "name": "python",
   "nbconvert_exporter": "python",
   "pygments_lexer": "ipython3",
   "version": "3.6.3"
  }
 },
 "nbformat": 4,
 "nbformat_minor": 2
}
