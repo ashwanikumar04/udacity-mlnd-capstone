{
 "cells": [
  {
   "cell_type": "code",
   "execution_count": 34,
   "metadata": {
    "collapsed": true
   },
   "outputs": [],
   "source": [
    "import pandas as pd\n",
    "import numpy as np\n",
    "import random"
   ]
  },
  {
   "cell_type": "code",
   "execution_count": 54,
   "metadata": {
    "collapsed": true
   },
   "outputs": [],
   "source": [
    "ENABLE_LOGGING = True\n",
    "\n",
    "\n",
    "def log(data, message=\"\\n\"):\n",
    "    if ENABLE_LOGGING:\n",
    "        print(\"{}:  {}\".format(message, data))"
   ]
  },
  {
   "cell_type": "code",
   "execution_count": 55,
   "metadata": {
    "collapsed": true
   },
   "outputs": [],
   "source": [
    "from sklearn.preprocessing import LabelBinarizer\n",
    "\n",
    "\n",
    "def one_hot_encode(x):\n",
    "    \"\"\"\n",
    "    One hot encode a list of sample labels. Return a one-hot encoded vector for each label.\n",
    "    : x: List of sample Labels\n",
    "    : return: Numpy array of one-hot encoded labels\n",
    "    \"\"\"\n",
    "    # http://scikit-learn.org/stable/modules/generated/sklearn.preprocessing.LabelBinarizer.html#sklearn.preprocessing.LabelBinarizer\n",
    "    lb = LabelBinarizer()\n",
    "    lb.fit(range(max(x) + 1))\n",
    "    b = lb.transform(x)\n",
    "    return b"
   ]
  },
  {
   "cell_type": "code",
   "execution_count": 82,
   "metadata": {
    "collapsed": true
   },
   "outputs": [],
   "source": [
    "import matplotlib.pyplot as plt\n",
    "%matplotlib inline"
   ]
  },
  {
   "cell_type": "code",
   "execution_count": 83,
   "metadata": {},
   "outputs": [
    {
     "data": {
      "image/png": "[encoded data removed]",
      "text/plain": [
       "<matplotlib.figure.Figure at 0x1a291a7550>"
      ]
     },
     "metadata": {},
     "output_type": "display_data"
    }
   ],
   "source": [
    "file = r'data/fer2013.csv'\n",
    "df = pd.read_csv(file)\n",
    "\n",
    "g1 = df.groupby( [ \"emotion\"] ).count()\n",
    "g1.head(10)\n",
    "my_plot = g1.plot(kind='bar')"
   ]
  },
  {
   "cell_type": "markdown",
   "metadata": {},
   "source": [
    "## Data"
   ]
  },
  {
   "cell_type": "markdown",
   "metadata": {},
   "source": [
    "### Training"
   ]
  },
  {
   "cell_type": "code",
   "execution_count": 65,
   "metadata": {},
   "outputs": [
    {
     "data": {
      "text/html": [
       "<div>\n",
       "<style>\n",
       "    .dataframe thead tr:only-child th {\n",
       "        text-align: right;\n",
       "    }\n",
       "\n",
       "    .dataframe thead th {\n",
       "        text-align: left;\n",
       "    }\n",
       "\n",
       "    .dataframe tbody tr th {\n",
       "        vertical-align: top;\n",
       "    }\n",
       "</style>\n",
       "<table border=\"1\" class=\"dataframe\">\n",
       "  <thead>\n",
       "    <tr style=\"text-align: right;\">\n",
       "      <th></th>\n",
       "      <th>emotion</th>\n",
       "      <th>pixels</th>\n",
       "      <th>Usage</th>\n",
       "    </tr>\n",
       "  </thead>\n",
       "  <tbody>\n",
       "    <tr>\n",
       "      <th>0</th>\n",
       "      <td>0</td>\n",
       "      <td>70 80 82 72 58 58 60 63 54 58 60 48 89 115 121...</td>\n",
       "      <td>Training</td>\n",
       "    </tr>\n",
       "    <tr>\n",
       "      <th>1</th>\n",
       "      <td>0</td>\n",
       "      <td>151 150 147 155 148 133 111 140 170 174 182 15...</td>\n",
       "      <td>Training</td>\n",
       "    </tr>\n",
       "    <tr>\n",
       "      <th>2</th>\n",
       "      <td>2</td>\n",
       "      <td>231 212 156 164 174 138 161 173 182 200 106 38...</td>\n",
       "      <td>Training</td>\n",
       "    </tr>\n",
       "    <tr>\n",
       "      <th>3</th>\n",
       "      <td>4</td>\n",
       "      <td>24 32 36 30 32 23 19 20 30 41 21 22 32 34 21 1...</td>\n",
       "      <td>Training</td>\n",
       "    </tr>\n",
       "    <tr>\n",
       "      <th>4</th>\n",
       "      <td>6</td>\n",
       "      <td>4 0 0 0 0 0 0 0 0 0 0 0 3 15 23 28 48 50 58 84...</td>\n",
       "      <td>Training</td>\n",
       "    </tr>\n",
       "  </tbody>\n",
       "</table>\n",
       "</div>"
      ],
      "text/plain": [
       "   emotion                                             pixels     Usage\n",
       "0        0  70 80 82 72 58 58 60 63 54 58 60 48 89 115 121...  Training\n",
       "1        0  151 150 147 155 148 133 111 140 170 174 182 15...  Training\n",
       "2        2  231 212 156 164 174 138 161 173 182 200 106 38...  Training\n",
       "3        4  24 32 36 30 32 23 19 20 30 41 21 22 32 34 21 1...  Training\n",
       "4        6  4 0 0 0 0 0 0 0 0 0 0 0 3 15 23 28 48 50 58 84...  Training"
      ]
     },
     "execution_count": 65,
     "metadata": {},
     "output_type": "execute_result"
    }
   ],
   "source": [
    "df.loc[df['Usage'] == 'Training'].head(5)"
   ]
  },
  {
   "cell_type": "markdown",
   "metadata": {},
   "source": [
    "### Test"
   ]
  },
  {
   "cell_type": "code",
   "execution_count": 53,
   "metadata": {},
   "outputs": [
    {
     "data": {
      "text/html": [
       "<div>\n",
       "<style>\n",
       "    .dataframe thead tr:only-child th {\n",
       "        text-align: right;\n",
       "    }\n",
       "\n",
       "    .dataframe thead th {\n",
       "        text-align: left;\n",
       "    }\n",
       "\n",
       "    .dataframe tbody tr th {\n",
       "        vertical-align: top;\n",
       "    }\n",
       "</style>\n",
       "<table border=\"1\" class=\"dataframe\">\n",
       "  <thead>\n",
       "    <tr style=\"text-align: right;\">\n",
       "      <th></th>\n",
       "      <th>emotion</th>\n",
       "      <th>pixels</th>\n",
       "      <th>Usage</th>\n",
       "    </tr>\n",
       "  </thead>\n",
       "  <tbody>\n",
       "    <tr>\n",
       "      <th>28709</th>\n",
       "      <td>0</td>\n",
       "      <td>254 254 254 254 254 249 255 160 2 58 53 70 77 ...</td>\n",
       "      <td>PublicTest</td>\n",
       "    </tr>\n",
       "    <tr>\n",
       "      <th>28710</th>\n",
       "      <td>1</td>\n",
       "      <td>156 184 198 202 204 207 210 212 213 214 215 21...</td>\n",
       "      <td>PublicTest</td>\n",
       "    </tr>\n",
       "    <tr>\n",
       "      <th>28711</th>\n",
       "      <td>4</td>\n",
       "      <td>69 118 61 60 96 121 103 87 103 88 70 90 115 12...</td>\n",
       "      <td>PublicTest</td>\n",
       "    </tr>\n",
       "    <tr>\n",
       "      <th>28712</th>\n",
       "      <td>6</td>\n",
       "      <td>205 203 236 157 83 158 120 116 94 86 155 180 2...</td>\n",
       "      <td>PublicTest</td>\n",
       "    </tr>\n",
       "    <tr>\n",
       "      <th>28713</th>\n",
       "      <td>3</td>\n",
       "      <td>87 79 74 66 74 96 77 80 80 84 83 89 102 91 84 ...</td>\n",
       "      <td>PublicTest</td>\n",
       "    </tr>\n",
       "  </tbody>\n",
       "</table>\n",
       "</div>"
      ],
      "text/plain": [
       "       emotion                                             pixels       Usage\n",
       "28709        0  254 254 254 254 254 249 255 160 2 58 53 70 77 ...  PublicTest\n",
       "28710        1  156 184 198 202 204 207 210 212 213 214 215 21...  PublicTest\n",
       "28711        4  69 118 61 60 96 121 103 87 103 88 70 90 115 12...  PublicTest\n",
       "28712        6  205 203 236 157 83 158 120 116 94 86 155 180 2...  PublicTest\n",
       "28713        3  87 79 74 66 74 96 77 80 80 84 83 89 102 91 84 ...  PublicTest"
      ]
     },
     "execution_count": 53,
     "metadata": {},
     "output_type": "execute_result"
    }
   ],
   "source": [
    "df.loc[df['Usage'] == 'PublicTest'].head(5)"
   ]
  },
  {
   "cell_type": "markdown",
   "metadata": {},
   "source": [
    "### Pre-process Data "
   ]
  },
  {
   "cell_type": "code",
   "execution_count": 57,
   "metadata": {
    "collapsed": true
   },
   "outputs": [],
   "source": [
    "# Converting space separated pixels to int array\n",
    "def string_to_int_array(item):\n",
    "    return [int(p) for p in item.split()]\n",
    "\n",
    "\n",
    "def get_X_and_y(df):\n",
    "    X = [string_to_int_array(item) for item in df.iloc[:, 1].values]\n",
    "    X = np.array(X) / 255.0\n",
    "    y = np.array(df.iloc[:, 0].values)\n",
    "    y = np.array(one_hot_encode(y))\n",
    "    y = y.astype(np.float32, copy=False)\n",
    "    return X, y\n",
    "\n",
    "\n",
    "def get_training_set(data):\n",
    "    not_class1 = data.loc[data['emotion'] != 1]\n",
    "    class1 = data.loc[data['emotion'] == 1]\n",
    "    class1_aug = class1\n",
    "    # This is done to handle the class imbalance for emotion 1 which has only ~500 pics\n",
    "    for i in range(11):\n",
    "        class1_aug = class1_aug.append(class1)\n",
    "    complete_training_set = not_class1.append(class1_aug)\n",
    "    return get_X_and_y(complete_training_set)"
   ]
  },
  {
   "cell_type": "code",
   "execution_count": 58,
   "metadata": {
    "collapsed": true
   },
   "outputs": [],
   "source": [
    "def get_test_set(data):\n",
    "    return get_X_and_y(data)\n",
    "\n",
    "\n",
    "train_X, train_y = get_training_set(df.loc[df['Usage'] == 'Training'])\n",
    "test_X, test_y = get_test_set(df.loc[df['Usage'] == 'PublicTest'])\n",
    "validate_X, validate_y = get_test_set(df.loc[df['Usage'] == 'PrivateTest'])"
   ]
  },
  {
   "cell_type": "code",
   "execution_count": 42,
   "metadata": {},
   "outputs": [
    {
     "data": {
      "text/plain": [
       "(33505, 2304)"
      ]
     },
     "execution_count": 42,
     "metadata": {},
     "output_type": "execute_result"
    }
   ],
   "source": [
    "train_X.shape"
   ]
  },
  {
   "cell_type": "markdown",
   "metadata": {},
   "source": [
    "## Images"
   ]
  },
  {
   "cell_type": "code",
   "execution_count": 47,
   "metadata": {},
   "outputs": [
    {
     "data": {
      "text/plain": [
       "<matplotlib.image.AxesImage at 0x1a2f11b630>"
      ]
     },
     "execution_count": 47,
     "metadata": {},
     "output_type": "execute_result"
    },
    {
     "data": {
      "image/png": "[encoded data removed]",
      "text/plain": [
       "<matplotlib.figure.Figure at 0x1a2f0dd160>"
      ]
     },
     "metadata": {},
     "output_type": "display_data"
    }
   ],
   "source": [
    "plt.imshow(train_X[random.randint(1,train_X.shape[0])].reshape(48,48),cmap='gist_gray')    "
   ]
  },
  {
   "cell_type": "code",
   "execution_count": 48,
   "metadata": {},
   "outputs": [
    {
     "data": {
      "text/plain": [
       "<matplotlib.image.AxesImage at 0x1a2ef515c0>"
      ]
     },
     "execution_count": 48,
     "metadata": {},
     "output_type": "execute_result"
    },
    {
     "data": {
      "image/png": "[encoded data removed]",
      "text/plain": [
       "<matplotlib.figure.Figure at 0x1a2f0dd470>"
      ]
     },
     "metadata": {},
     "output_type": "display_data"
    }
   ],
   "source": [
    "plt.imshow(train_X[random.randint(1,train_X.shape[0])].reshape(48,48),cmap='gist_gray')"
   ]
  },
  {
   "cell_type": "code",
   "execution_count": 49,
   "metadata": {},
   "outputs": [
    {
     "data": {
      "text/plain": [
       "<matplotlib.image.AxesImage at 0x1a2947f588>"
      ]
     },
     "execution_count": 49,
     "metadata": {},
     "output_type": "execute_result"
    },
    {
     "data": {
      "image/png": "[encoded data removed]",
      "text/plain": [
       "<matplotlib.figure.Figure at 0x1a2ef58080>"
      ]
     },
     "metadata": {},
     "output_type": "display_data"
    }
   ],
   "source": [
    "plt.imshow(train_X[random.randint(1,train_X.shape[0])].reshape(48,48),cmap='gist_gray')"
   ]
  },
  {
   "cell_type": "code",
   "execution_count": 8,
   "metadata": {
    "collapsed": true
   },
   "outputs": [],
   "source": [
    "from sklearn.utils import shuffle\n",
    "import tensorflow as tf\n",
    "def get_batch(X, y, current_batch, batch_size):\n",
    "    X_batch = X[current_batch * batch_size:(\n",
    "        current_batch * batch_size + batch_size)]\n",
    "    y_batch = y[current_batch * batch_size:(\n",
    "        current_batch * batch_size + batch_size)]\n",
    "    return X_batch, y_batch"
   ]
  },
  {
   "cell_type": "markdown",
   "metadata": {},
   "source": [
    "### Hyper parameters"
   ]
  },
  {
   "cell_type": "code",
   "execution_count": 60,
   "metadata": {
    "collapsed": true
   },
   "outputs": [],
   "source": [
    "\n",
    "num_batches = 128\n",
    "batch_size = 256\n",
    "epocs = 1000\n",
    "learning_rate=0.2\n"
   ]
  },
  {
   "cell_type": "markdown",
   "metadata": {},
   "source": [
    "## Linear Classification"
   ]
  },
  {
   "cell_type": "code",
   "execution_count": 33,
   "metadata": {},
   "outputs": [
    {
     "name": "stdout",
     "output_type": "stream",
     "text": [
      "model accuracy:  0.11730287224054337\n",
      "model accuracy:  0.12789078056812286\n",
      "model accuracy:  0.31429368257522583\n",
      "model accuracy:  0.20841459929943085\n",
      "model accuracy:  0.2947896420955658\n",
      "model accuracy:  0.3390916585922241\n",
      "model accuracy:  0.3441070020198822\n",
      "model accuracy:  0.30509892106056213\n",
      "model accuracy:  0.3039844036102295\n",
      "model accuracy:  0.24630816280841827\n",
      "Final accuracy:  0.2518807351589203\n"
     ]
    }
   ],
   "source": [
    "labels = 7\n",
    "image_size = 2304\n",
    "\n",
    "x = tf.placeholder(tf.float32, shape=[None, image_size])\n",
    "W = tf.Variable(tf.zeros([image_size, labels]))\n",
    "b = tf.Variable(tf.zeros([labels]))\n",
    "y = tf.matmul(x, W) + b\n",
    "y_true = tf.placeholder(tf.float32, [None, labels])\n",
    "cross_entropy = tf.reduce_mean(\n",
    "    tf.nn.softmax_cross_entropy_with_logits_v2(labels=y_true, logits=y))\n",
    "optimizer = tf.train.GradientDescentOptimizer(learning_rate=learning_rate)\n",
    "train = optimizer.minimize(cross_entropy)\n",
    "init = tf.global_variables_initializer()\n",
    "correct_prediction = tf.equal(tf.argmax(y, 1), tf.argmax(y_true, 1))\n",
    "accuracy = tf.reduce_mean(tf.cast(correct_prediction, tf.float32))\n",
    "with tf.Session() as sess:\n",
    "    sess.run(init)\n",
    "    for step in range(epocs):\n",
    "        X, y = shuffle(train_X, train_y)\n",
    "        for current_batch in range(num_batches):\n",
    "            batch_X, batch_y = get_batch(X, y, current_batch, batch_size)\n",
    "            sess.run(train, feed_dict={x: batch_X, y_true: batch_y})\n",
    "        if step % 100 == 0:\n",
    "            log(sess.run(accuracy, feed_dict={x: test_X,\n",
    "                                              y_true: test_y}), \"model accuracy\")\n",
    "\n",
    "    log(sess.run(accuracy, feed_dict={x: validate_X,\n",
    "                                      y_true: validate_y}), \"Final accuracy\")"
   ]
  },
  {
   "cell_type": "markdown",
   "metadata": {},
   "source": [
    "### Hyper parameters"
   ]
  },
  {
   "cell_type": "code",
   "execution_count": 77,
   "metadata": {
    "collapsed": true
   },
   "outputs": [],
   "source": [
    "\n",
    "num_batches = 64\n",
    "batch_size = 256\n",
    "epocs = 100\n",
    "learning_rate=0.001\n"
   ]
  },
  {
   "cell_type": "code",
   "execution_count": 84,
   "metadata": {},
   "outputs": [
    {
     "name": "stdout",
     "output_type": "stream",
     "text": [
      "Epoch:  0\n",
      "model accuracy:  0.2794650197029114\n",
      "Epoch:  1\n",
      "model accuracy:  0.3413206934928894\n",
      "Epoch:  2\n",
      "model accuracy:  0.36779046058654785\n",
      "Epoch:  3\n",
      "model accuracy:  0.37419894337654114\n",
      "Epoch:  4\n",
      "model accuracy:  0.3909166753292084\n",
      "Epoch:  5\n",
      "model accuracy:  0.411813884973526\n",
      "Epoch:  6\n",
      "model accuracy:  0.4257453382015228\n",
      "Epoch:  7\n",
      "model accuracy:  0.42295902967453003\n",
      "Epoch:  8\n",
      "model accuracy:  0.4274170994758606\n",
      "Epoch:  9\n",
      "model accuracy:  0.4380050301551819\n",
      "Epoch:  10\n",
      "model accuracy:  0.4555586576461792\n",
      "Epoch:  11\n",
      "model accuracy:  0.4586235582828522\n",
      "Epoch:  12\n",
      "model accuracy:  0.4586235582828522\n",
      "Epoch:  13\n",
      "model accuracy:  0.46503204107284546\n",
      "Epoch:  14\n",
      "model accuracy:  0.47645583748817444\n",
      "Epoch:  15\n",
      "model accuracy:  0.469490110874176\n",
      "Epoch:  16\n",
      "model accuracy:  0.4817498028278351\n",
      "Epoch:  17\n",
      "model accuracy:  0.4845360815525055\n",
      "Epoch:  18\n",
      "model accuracy:  0.4845360815525055\n",
      "Epoch:  19\n",
      "model accuracy:  0.48620784282684326\n",
      "Epoch:  20\n",
      "model accuracy:  0.4845360815525055\n",
      "Epoch:  21\n",
      "model accuracy:  0.49261632561683655\n",
      "Epoch:  22\n",
      "model accuracy:  0.492337703704834\n",
      "Epoch:  23\n",
      "model accuracy:  0.49958205223083496\n",
      "Epoch:  24\n",
      "model accuracy:  0.48843687772750854\n",
      "Epoch:  25\n",
      "model accuracy:  0.5015324354171753\n",
      "Epoch:  26\n",
      "model accuracy:  0.5043187737464905\n",
      "Epoch:  27\n",
      "model accuracy:  0.5037614703178406\n",
      "Epoch:  28\n",
      "model accuracy:  0.5098913311958313\n",
      "Epoch:  29\n",
      "model accuracy:  0.5121203660964966\n",
      "Epoch:  30\n",
      "model accuracy:  0.5115631222724915\n",
      "Epoch:  31\n",
      "model accuracy:  0.5107272267341614\n",
      "Epoch:  32\n",
      "model accuracy:  0.5107272267341614\n",
      "Epoch:  33\n",
      "model accuracy:  0.5137921571731567\n",
      "Epoch:  34\n",
      "model accuracy:  0.5082195401191711\n",
      "Epoch:  35\n",
      "model accuracy:  0.5185288190841675\n",
      "Epoch:  36\n",
      "model accuracy:  0.5098913311958313\n",
      "Epoch:  37\n",
      "model accuracy:  0.5051546096801758\n",
      "Epoch:  38\n",
      "model accuracy:  0.5082195401191711\n",
      "Epoch:  39\n",
      "model accuracy:  0.5140707492828369\n",
      "Epoch:  40\n",
      "model accuracy:  0.516021192073822\n",
      "Epoch:  41\n",
      "model accuracy:  0.5204792618751526\n",
      "Epoch:  42\n",
      "model accuracy:  0.5043187737464905\n",
      "Epoch:  43\n",
      "model accuracy:  0.5171356797218323\n",
      "Epoch:  44\n",
      "model accuracy:  0.5143494009971619\n",
      "Epoch:  45\n",
      "model accuracy:  0.514906644821167\n",
      "Epoch:  46\n",
      "model accuracy:  0.5140707492828369\n",
      "Epoch:  47\n",
      "model accuracy:  0.507940948009491\n",
      "Epoch:  48\n",
      "model accuracy:  0.5171356797218323\n",
      "Epoch:  49\n",
      "model accuracy:  0.5137921571731567\n",
      "Epoch:  50\n",
      "model accuracy:  0.5162997841835022\n",
      "Epoch:  51\n",
      "model accuracy:  0.5227082967758179\n",
      "Epoch:  52\n",
      "model accuracy:  0.5121203660964966\n",
      "Epoch:  53\n",
      "model accuracy:  0.5154638886451721\n",
      "Epoch:  54\n",
      "model accuracy:  0.5176929235458374\n",
      "Epoch:  55\n",
      "model accuracy:  0.5112844705581665\n",
      "Epoch:  56\n",
      "model accuracy:  0.5126776099205017\n",
      "Epoch:  57\n",
      "model accuracy:  0.5126776099205017\n",
      "Epoch:  58\n",
      "model accuracy:  0.5165784358978271\n",
      "Epoch:  59\n",
      "model accuracy:  0.5202006101608276\n",
      "Epoch:  60\n",
      "model accuracy:  0.5162997841835022\n",
      "Epoch:  61\n",
      "model accuracy:  0.5157425403594971\n",
      "Epoch:  62\n",
      "model accuracy:  0.5204792618751526\n",
      "Epoch:  63\n",
      "model accuracy:  0.5227082967758179\n",
      "Epoch:  64\n",
      "model accuracy:  0.5196433663368225\n",
      "Epoch:  65\n",
      "model accuracy:  0.5151852965354919\n",
      "Epoch:  66\n",
      "model accuracy:  0.5137921571731567\n",
      "Epoch:  67\n",
      "model accuracy:  0.5176929235458374\n",
      "Epoch:  68\n",
      "model accuracy:  0.5093340873718262\n",
      "Epoch:  69\n",
      "model accuracy:  0.5162997841835022\n",
      "Epoch:  70\n",
      "model accuracy:  0.5179715752601624\n",
      "Epoch:  71\n",
      "model accuracy:  0.5115631222724915\n",
      "Epoch:  72\n",
      "model accuracy:  0.5182502269744873\n",
      "Epoch:  73\n",
      "model accuracy:  0.5154638886451721\n",
      "Epoch:  74\n",
      "model accuracy:  0.5165784358978271\n",
      "Epoch:  75\n",
      "model accuracy:  0.5151852965354919\n",
      "Epoch:  76\n",
      "model accuracy:  0.5204792618751526\n",
      "Epoch:  77\n",
      "model accuracy:  0.5143494009971619\n",
      "Epoch:  78\n",
      "model accuracy:  0.5126776099205017\n",
      "Epoch:  79\n",
      "model accuracy:  0.5093340873718262\n",
      "Epoch:  80\n",
      "model accuracy:  0.5140707492828369\n",
      "Epoch:  81\n",
      "model accuracy:  0.5185288190841675\n",
      "Epoch:  82\n",
      "model accuracy:  0.5157425403594971\n",
      "Epoch:  83\n",
      "model accuracy:  0.5143494009971619\n",
      "Epoch:  84\n",
      "model accuracy:  0.5146280527114868\n",
      "Epoch:  85\n",
      "model accuracy:  0.5202006101608276\n",
      "Epoch:  86\n",
      "model accuracy:  0.5193647146224976\n",
      "Epoch:  87\n",
      "model accuracy:  0.5215937495231628\n",
      "Epoch:  88\n",
      "model accuracy:  0.5115631222724915\n",
      "Epoch:  89\n",
      "model accuracy:  0.5171356797218323\n",
      "Epoch:  90\n",
      "model accuracy:  0.5199219584465027\n",
      "Epoch:  91\n",
      "model accuracy:  0.5157425403594971\n",
      "Epoch:  92\n",
      "model accuracy:  0.5123990178108215\n",
      "Epoch:  93\n",
      "model accuracy:  0.5154638886451721\n",
      "Epoch:  94\n",
      "model accuracy:  0.5065478086471558\n",
      "Epoch:  95\n",
      "model accuracy:  0.5202006101608276\n",
      "Epoch:  96\n",
      "model accuracy:  0.516021192073822\n",
      "Epoch:  97\n",
      "model accuracy:  0.5135135054588318\n",
      "Epoch:  98\n",
      "model accuracy:  0.5168570876121521\n",
      "Epoch:  99\n",
      "model accuracy:  0.5143494009971619\n",
      "Final accuracy:  0.5121203660964966\n"
     ]
    }
   ],
   "source": [
    "def init_weights(shape):\n",
    "    init_random_dist = tf.truncated_normal(shape, stddev=0.1)\n",
    "    return tf.Variable(init_random_dist)\n",
    "\n",
    "\n",
    "def init_bias(shape):\n",
    "    init_bias_vals = tf.constant(0.1, shape=shape)\n",
    "    return tf.Variable(init_bias_vals)\n",
    "\n",
    "\n",
    "def conv2d(x, W):\n",
    "    # x --> [batch,H,W,channels]\n",
    "    # W --> [filter H, filter W, Channels In, Channels Out]\n",
    "    return tf.nn.conv2d(x, W, strides=[1, 1, 1, 1], padding=\"SAME\")\n",
    "\n",
    "\n",
    "def max_pool_2x2(x):\n",
    "    # x --> [batch,H,W,channels]\n",
    "    return tf.nn.max_pool(\n",
    "        x, ksize=[1, 2, 2, 1], strides=[1, 2, 2, 1], padding=\"SAME\")\n",
    "\n",
    "\n",
    "def convolutional_layer(input_x, shape):\n",
    "    W = init_weights(shape)\n",
    "    b = init_bias([shape[3]])\n",
    "    return tf.nn.relu(conv2d(input_x, W) + b)\n",
    "\n",
    "\n",
    "def normal_full_layer(input_layer, size):\n",
    "    input_size = int(input_layer.get_shape()[1])\n",
    "    W = init_weights([input_size, size])\n",
    "    b = init_bias([size])\n",
    "    return tf.matmul(input_layer, W) + b\n",
    "\n",
    "\n",
    "x = tf.placeholder(tf.float32, shape=[None, image_size])\n",
    "y_true = tf.placeholder(tf.float32, shape=[None, labels])\n",
    "x_image = tf.reshape(x, [-1, 48, 48, 1])\n",
    "\n",
    "# In[37]:\n",
    "\n",
    "convo_1 = convolutional_layer(x_image, shape=[5, 5, 1, 32])\n",
    "convo_1_pooling = max_pool_2x2(convo_1)\n",
    "\n",
    "# In[38]:\n",
    "\n",
    "convo_2 = convolutional_layer(convo_1_pooling, shape=[5, 5, 32, 64])\n",
    "convo_2_pooling = max_pool_2x2(convo_2)\n",
    "\n",
    "# In[40]:\n",
    "\n",
    "# Why 12 by 12 image? Because we did 2 pooling layers, so (48/2)/2 = 12\n",
    "convo_2_flat = tf.reshape(convo_2_pooling, [-1, 12 * 12 * 64])\n",
    "full_layer_1 = tf.nn.relu(normal_full_layer(convo_2_flat, 1024))\n",
    "\n",
    "# In[41]:\n",
    "\n",
    "# Dropout\n",
    "hold_prob = tf.placeholder(tf.float32,name=\"hold_prob\")\n",
    "full_one_dropout = tf.nn.dropout(full_layer_1, keep_prob=hold_prob)\n",
    "\n",
    "# In[42]:\n",
    "\n",
    "y_pred = normal_full_layer(full_one_dropout, labels)\n",
    "\n",
    "# In[44]:\n",
    "\n",
    "# Loss function\n",
    "cross_entropy = tf.reduce_mean(\n",
    "    tf.nn.softmax_cross_entropy_with_logits_v2(labels=y_true, logits=y_pred))\n",
    "\n",
    "# In[45]:\n",
    "\n",
    "# Optimizer\n",
    "optimizer = tf.train.AdamOptimizer(learning_rate=learning_rate)\n",
    "train = optimizer.minimize(cross_entropy)\n",
    "\n",
    "# In[46]:\n",
    "\n",
    "init = tf.global_variables_initializer()\n",
    "correct_prediction = tf.equal(tf.argmax(y_pred, 1), tf.argmax(y_true, 1))\n",
    "accuracy = tf.reduce_mean(tf.cast(correct_prediction, tf.float32))\n",
    "# In[47]:\n",
    "\n",
    "with tf.Session() as sess:\n",
    "    sess.run(init)\n",
    "    for step in range(epocs):\n",
    "        log(step,\"Epoch\")\n",
    "        X, y = shuffle(train_X, train_y)\n",
    "        for current_batch in range(num_batches):\n",
    "            batch_X, batch_y = get_batch(X, y, current_batch, batch_size)\n",
    "            sess.run(\n",
    "                train, feed_dict={\n",
    "                    x: batch_X,\n",
    "                    y_true: batch_y,\n",
    "                    hold_prob: 0.5\n",
    "                })\n",
    "        if True:\n",
    "            log(\n",
    "                sess.run(\n",
    "                    accuracy,\n",
    "                    feed_dict={\n",
    "                        x: test_X,\n",
    "                        y_true: test_y,\n",
    "                        hold_prob: 1.0\n",
    "                    }), \"model accuracy\")\n",
    "    log(\n",
    "        sess.run(\n",
    "            accuracy,\n",
    "            feed_dict={\n",
    "                x: validate_X,\n",
    "                y_true: validate_y,\n",
    "                hold_prob: 1.0\n",
    "            }), \"Final accuracy\")"
   ]
  },
  {
   "cell_type": "code",
   "execution_count": null,
   "metadata": {
    "collapsed": true
   },
   "outputs": [],
   "source": []
  }
 ],
 "metadata": {
  "kernelspec": {
   "display_name": "Python 3",
   "language": "python",
   "name": "python3"
  },
  "language_info": {
   "codemirror_mode": {
    "name": "ipython",
    "version": 3
   },
   "file_extension": ".py",
   "mimetype": "text/x-python",
   "name": "python",
   "nbconvert_exporter": "python",
   "pygments_lexer": "ipython3",
   "version": "3.6.3"
  }
 },
 "nbformat": 4,
 "nbformat_minor": 2
}
