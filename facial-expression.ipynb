{
 "cells": [
  {
   "cell_type": "code",
   "execution_count": 2,
   "metadata": {
    "collapsed": true
   },
   "outputs": [],
   "source": [
    "import pandas as pd\n",
    "import numpy as np"
   ]
  },
  {
   "cell_type": "code",
   "execution_count": 17,
   "metadata": {
    "collapsed": true
   },
   "outputs": [],
   "source": [
    "ENABLE_LOGGING = True\n",
    "\n",
    "\n",
    "def log(data, message=\"\\n\"):\n",
    "    if ENABLE_LOGGING:\n",
    "        print(message)\n",
    "        print(\"\\t\")\n",
    "        print(data)"
   ]
  },
  {
   "cell_type": "code",
   "execution_count": 3,
   "metadata": {
    "collapsed": true
   },
   "outputs": [],
   "source": [
    "from sklearn.preprocessing import LabelBinarizer\n",
    "\n",
    "\n",
    "def one_hot_encode(x):\n",
    "    \"\"\"\n",
    "    One hot encode a list of sample labels. Return a one-hot encoded vector for each label.\n",
    "    : x: List of sample Labels\n",
    "    : return: Numpy array of one-hot encoded labels\n",
    "    \"\"\"\n",
    "    # http://scikit-learn.org/stable/modules/generated/sklearn.preprocessing.LabelBinarizer.html#sklearn.preprocessing.LabelBinarizer\n",
    "    lb = LabelBinarizer()\n",
    "    lb.fit(range(max(x)+1))\n",
    "    b = lb.transform(x)\n",
    "    return b"
   ]
  },
  {
   "cell_type": "code",
   "execution_count": 4,
   "metadata": {},
   "outputs": [
    {
     "name": "stdout",
     "output_type": "stream",
     "text": [
      "First training value\n",
      "[ 0.2745098   0.31372549  0.32156863 ...,  0.41568627  0.42745098\n",
      "  0.32156863]\n",
      "[ 1.  0.  0.  0.  0.  0.  0.]\n",
      "(33505, 2304)\n",
      "(33505, 7)\n",
      "\n",
      "First test value\n",
      "[ 0.99607843  0.99607843  0.99607843 ...,  0.16470588  0.50588235\n",
      "  0.70588235]\n",
      "[ 1.  0.  0.  0.  0.  0.  0.]\n",
      "(3589, 2304)\n",
      "(3589, 7)\n"
     ]
    }
   ],
   "source": [
    "file = r'data/fer2013.csv'\n",
    "df = pd.read_csv(file)\n",
    "\n",
    "# Converting space separated pixels to int array\n",
    "\n",
    "\n",
    "def string_to_int_array(item):\n",
    "    return [int(p) for p in item.split()]\n",
    "\n",
    "\n",
    "def get_X_and_y(df):\n",
    "    X = [string_to_int_array(item) for item in df.iloc[:, 1].values]\n",
    "    X = np.array(X) / 255.0\n",
    "    y = np.array(df.iloc[:, 0].values)\n",
    "    y = np.array(one_hot_encode(y))\n",
    "    y = y.astype(np.float32, copy=False)\n",
    "    return X, y\n",
    "\n",
    "\n",
    "def get_training_set(data):\n",
    "    not_class1 = data.loc[data['emotion'] != 1]\n",
    "    class1 = data.loc[data['emotion'] == 1]\n",
    "    class1_aug = class1\n",
    "    # This is done to handle the class imbalance for emotion 1 which has only ~500 pics\n",
    "    for i in range(11):\n",
    "        class1_aug = class1_aug.append(class1)\n",
    "    complete_training_set = not_class1.append(class1_aug)\n",
    "    return get_X_and_y(complete_training_set)\n",
    "\n",
    "\n",
    "def get_test_set(data):\n",
    "    return get_X_and_y(data)\n",
    "\n",
    "\n",
    "train_X, train_y = get_training_set(df.loc[df['Usage'] == 'Training'])\n",
    "test_X, test_y = get_test_set(df.loc[df['Usage'] == 'PublicTest'])\n",
    "\n",
    "print('First training value')\n",
    "print(train_X[0])\n",
    "print(train_y[0])\n",
    "\n",
    "print(train_X.shape)\n",
    "print(train_y.shape)\n",
    "\n",
    "print('\\nFirst test value')\n",
    "print(test_X[0])\n",
    "print(test_y[0])\n",
    "print(test_X.shape)\n",
    "print(test_y.shape)"
   ]
  },
  {
   "cell_type": "code",
   "execution_count": 5,
   "metadata": {
    "collapsed": true
   },
   "outputs": [],
   "source": [
    "import matplotlib.pyplot as plt\n",
    "%matplotlib inline"
   ]
  },
  {
   "cell_type": "code",
   "execution_count": 6,
   "metadata": {},
   "outputs": [
    {
     "data": {
      "text/plain": [
       "(2304,)"
      ]
     },
     "execution_count": 6,
     "metadata": {},
     "output_type": "execute_result"
    }
   ],
   "source": [
    "train_X[0].shape"
   ]
  },
  {
   "cell_type": "code",
   "execution_count": 7,
   "metadata": {},
   "outputs": [
    {
     "data": {
      "text/plain": [
       "<matplotlib.image.AxesImage at 0x10abd5ba8>"
      ]
     },
     "execution_count": 7,
     "metadata": {},
     "output_type": "execute_result"
    },
    {
     "data": {
      "image/png": "[encoded data removed]",
      "text/plain": [
       "<matplotlib.figure.Figure at 0x10f461198>"
      ]
     },
     "metadata": {},
     "output_type": "display_data"
    }
   ],
   "source": [
    "plt.imshow(train_X[29].reshape(48,48),cmap='gist_gray')"
   ]
  },
  {
   "cell_type": "code",
   "execution_count": 8,
   "metadata": {
    "collapsed": true
   },
   "outputs": [],
   "source": [
    "from sklearn.utils import shuffle\n",
    "import tensorflow as tf\n",
    "def get_batch(X, y, current_batch, batch_size):\n",
    "    X_batch = X[current_batch * batch_size:(\n",
    "        current_batch * batch_size + batch_size)]\n",
    "    y_batch = y[current_batch * batch_size:(\n",
    "        current_batch * batch_size + batch_size)]\n",
    "    return X_batch, y_batch"
   ]
  },
  {
   "cell_type": "code",
   "execution_count": null,
   "metadata": {},
   "outputs": [
    {
     "name": "stdout",
     "output_type": "stream",
     "text": [
      "model accuracy:\n",
      "\t\n",
      "0.182223\n",
      "model accuracy:\n",
      "\t\n",
      "0.151017\n",
      "model accuracy:\n",
      "\t\n",
      "0.137364\n",
      "model accuracy:\n",
      "\t\n",
      "0.289774\n",
      "model accuracy:\n",
      "\t\n",
      "0.168849\n",
      "model accuracy:\n",
      "\t\n",
      "0.279465\n",
      "model accuracy:\n",
      "\t\n",
      "0.28253\n",
      "model accuracy:\n",
      "\t\n",
      "0.21956\n"
     ]
    }
   ],
   "source": [
    "\n",
    "num_batches = 128\n",
    "batch_size = 256\n",
    "epocs = 100\n",
    "\n",
    "labels = 7\n",
    "image_size = 2304\n",
    "\n",
    "x = tf.placeholder(tf.float32, shape=[None, image_size])\n",
    "W = tf.Variable(tf.zeros([image_size, labels]))\n",
    "b = tf.Variable(tf.zeros([labels]))\n",
    "y = tf.matmul(x, W) + b\n",
    "y_true = tf.placeholder(tf.float32, [None, labels])\n",
    "cross_entropy = tf.reduce_mean(\n",
    "    tf.nn.softmax_cross_entropy_with_logits_v2(labels=y_true, logits=y))\n",
    "optimizer = tf.train.GradientDescentOptimizer(learning_rate=0.1)\n",
    "train = optimizer.minimize(cross_entropy)\n",
    "init = tf.global_variables_initializer()\n",
    "correct_prediction = tf.equal(tf.argmax(y, 1), tf.argmax(y_true, 1))\n",
    "accuracy = tf.reduce_mean(tf.cast(correct_prediction, tf.float32))\n",
    "with tf.Session() as sess:\n",
    "    sess.run(init)\n",
    "    for step in range(epocs):\n",
    "        X, y = shuffle(train_X, train_y)\n",
    "        for current_batch in range(num_batches):\n",
    "            batch_X, batch_y = get_batch(X, y, current_batch, batch_size)\n",
    "            sess.run(train, feed_dict={x: batch_X, y_true: batch_y})\n",
    "        if step % 10 == 0:\n",
    "            log(sess.run(accuracy, feed_dict={x: test_X,\n",
    "                                              y_true: test_y}), \"model accuracy:\")\n",
    "\n",
    "    log(sess.run(accuracy, feed_dict={x: test_X,\n",
    "                                      y_true: test_y}), \"Final accuracy: \")"
   ]
  },
  {
   "cell_type": "code",
   "execution_count": null,
   "metadata": {
    "collapsed": true
   },
   "outputs": [],
   "source": []
  }
 ],
 "metadata": {
  "kernelspec": {
   "display_name": "Python 3",
   "language": "python",
   "name": "python3"
  },
  "language_info": {
   "codemirror_mode": {
    "name": "ipython",
    "version": 3
   },
   "file_extension": ".py",
   "mimetype": "text/x-python",
   "name": "python",
   "nbconvert_exporter": "python",
   "pygments_lexer": "ipython3",
   "version": "3.6.3"
  }
 },
 "nbformat": 4,
 "nbformat_minor": 2
}
